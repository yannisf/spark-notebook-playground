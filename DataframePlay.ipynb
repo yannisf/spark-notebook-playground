{
 "cells": [
  {
   "cell_type": "markdown",
   "metadata": {},
   "source": [
    "## Initialize spark"
   ]
  },
  {
   "cell_type": "code",
   "execution_count": 1,
   "metadata": {
    "scrolled": true
   },
   "outputs": [
    {
     "name": "stderr",
     "output_type": "stream",
     "text": [
      "Using Spark's default log4j profile: org/apache/spark/log4j-defaults.properties\n",
      "19/11/15 08:26:09 INFO SparkContext: Running Spark version 2.4.4\n",
      "19/11/15 08:26:09 WARN NativeCodeLoader: Unable to load native-hadoop library for your platform... using builtin-java classes where applicable\n",
      "19/11/15 08:26:09 INFO SparkContext: Submitted application: 8394513b-a063-4aed-83b0-986c9a9edbbf\n",
      "19/11/15 08:26:09 INFO SecurityManager: Changing view acls to: yannis\n",
      "19/11/15 08:26:09 INFO SecurityManager: Changing modify acls to: yannis\n",
      "19/11/15 08:26:09 INFO SecurityManager: Changing view acls groups to: \n",
      "19/11/15 08:26:09 INFO SecurityManager: Changing modify acls groups to: \n",
      "19/11/15 08:26:09 INFO SecurityManager: SecurityManager: authentication disabled; ui acls disabled; users  with view permissions: Set(yannis); groups with view permissions: Set(); users  with modify permissions: Set(yannis); groups with modify permissions: Set()\n",
      "19/11/15 08:26:10 INFO Utils: Successfully started service 'sparkDriver' on port 37359.\n",
      "19/11/15 08:26:10 INFO SparkEnv: Registering MapOutputTracker\n",
      "19/11/15 08:26:10 INFO SparkEnv: Registering BlockManagerMaster\n",
      "19/11/15 08:26:10 INFO BlockManagerMasterEndpoint: Using org.apache.spark.storage.DefaultTopologyMapper for getting topology information\n",
      "19/11/15 08:26:10 INFO BlockManagerMasterEndpoint: BlockManagerMasterEndpoint up\n",
      "19/11/15 08:26:10 INFO DiskBlockManager: Created local directory at /tmp/blockmgr-8143369b-c847-4e22-beec-8a113a35b99a\n",
      "19/11/15 08:26:10 INFO MemoryStore: MemoryStore started with capacity 4.0 GB\n",
      "19/11/15 08:26:10 INFO SparkEnv: Registering OutputCommitCoordinator\n",
      "19/11/15 08:26:10 INFO Utils: Successfully started service 'SparkUI' on port 4040.\n",
      "19/11/15 08:26:10 INFO SparkUI: Bound SparkUI to 0.0.0.0, and started at http://ouranos.fraglab.net:4040\n",
      "19/11/15 08:26:10 INFO Executor: Starting executor ID driver on host localhost\n",
      "19/11/15 08:26:10 INFO Utils: Successfully started service 'org.apache.spark.network.netty.NettyBlockTransferService' on port 42291.\n",
      "19/11/15 08:26:10 INFO NettyBlockTransferService: Server created on ouranos.fraglab.net:42291\n",
      "19/11/15 08:26:10 INFO BlockManager: Using org.apache.spark.storage.RandomBlockReplicationPolicy for block replication policy\n",
      "19/11/15 08:26:10 INFO BlockManagerMaster: Registering BlockManager BlockManagerId(driver, ouranos.fraglab.net, 42291, None)\n",
      "19/11/15 08:26:10 INFO BlockManagerMasterEndpoint: Registering block manager ouranos.fraglab.net:42291 with 4.0 GB RAM, BlockManagerId(driver, ouranos.fraglab.net, 42291, None)\n",
      "19/11/15 08:26:10 INFO BlockManagerMaster: Registered BlockManager BlockManagerId(driver, ouranos.fraglab.net, 42291, None)\n",
      "19/11/15 08:26:10 INFO BlockManager: Initialized BlockManager: BlockManagerId(driver, ouranos.fraglab.net, 42291, None)\n"
     ]
    },
    {
     "data": {
      "text/plain": [
       "\u001b[32mimport \u001b[39m\u001b[36m$ivy.$                                  \n",
       "\n",
       "\u001b[39m\n",
       "\u001b[32mimport \u001b[39m\u001b[36morg.apache.spark.sql._\n",
       "\u001b[39m\n",
       "\u001b[32mimport \u001b[39m\u001b[36morg.apache.spark.sql.functions._\n",
       "\u001b[39m\n",
       "\u001b[32mimport \u001b[39m\u001b[36morg.apache.spark.sql.types._\n",
       "\n",
       "\u001b[39m\n",
       "\u001b[36mspark\u001b[39m: \u001b[32mSparkSession\u001b[39m = org.apache.spark.sql.SparkSession@266004b6\n",
       "\u001b[32mimport \u001b[39m\u001b[36mspark.implicits._\n",
       "\n",
       "\u001b[39m\n",
       "\u001b[36msc\u001b[39m: \u001b[32morg\u001b[39m.\u001b[32mapache\u001b[39m.\u001b[32mspark\u001b[39m.\u001b[32mSparkContext\u001b[39m = org.apache.spark.SparkContext@1e27e18a"
      ]
     },
     "execution_count": 1,
     "metadata": {},
     "output_type": "execute_result"
    }
   ],
   "source": [
    "import $ivy.`org.apache.spark::spark-sql:2.4.4`\n",
    "\n",
    "import org.apache.spark.sql._\n",
    "import org.apache.spark.sql.functions._\n",
    "import org.apache.spark.sql.types._\n",
    "\n",
    "val spark = SparkSession\n",
    "  .builder\n",
    "  .master(\"local[2]\")\n",
    "  .getOrCreate()\n",
    "\n",
    "import spark.implicits._\n",
    "\n",
    "val sc = spark.sparkContext\n",
    "sc.setLogLevel(\"WARN\")"
   ]
  },
  {
   "cell_type": "markdown",
   "metadata": {},
   "source": [
    "## Create a dataframe and transform it"
   ]
  },
  {
   "cell_type": "code",
   "execution_count": 2,
   "metadata": {},
   "outputs": [
    {
     "data": {
      "text/plain": [
       "\u001b[36mdf\u001b[39m: \u001b[32mDataFrame\u001b[39m = [COUNTRY: string, R: string ... 3 more fields]"
      ]
     },
     "execution_count": 2,
     "metadata": {},
     "output_type": "execute_result"
    }
   ],
   "source": [
    "val df = Seq(\n",
    "  (\"GR\", \"1\", \"10\"),\n",
    "  (\"CY\", \"2\", \"20\")\n",
    ").toDF(\"COUNTRY\", \"R1\", \"R2\")\n",
    "  .withColumn(\"R1\", concat_ws(\":\", lit(\"A\"), 'R1))\n",
    "  .withColumn(\"R2\", concat_ws(\":\", lit(\"B\"), 'R2))\n",
    "  .select($\"COUNTRY\", explode(array(\"R1\", \"R2\")).as(\"R\"))\n",
    "  .withColumn(\"SR\", split('R, \":\"))\n",
    "  .withColumn(\"RR\", 'SR(0))\n",
    "  .withColumn(\"RRR\", 'SR(1))\n",
    "//   .select(\"COUNTRY\", \"RR\", \"RRR\")\n",
    "//   .groupBy(\"COUNTRY\")\n",
    "//   .pivot(\"RR\")\n",
    "//   .agg(first(\"RRR\"))\n",
    "//   .show"
   ]
  },
  {
   "cell_type": "markdown",
   "metadata": {},
   "source": [
    "### Just selecting and showing to appreciate the effects"
   ]
  },
  {
   "cell_type": "code",
   "execution_count": 3,
   "metadata": {},
   "outputs": [
    {
     "name": "stdout",
     "output_type": "stream",
     "text": [
      "+-------+----+-------+---+---+\n",
      "|COUNTRY|R   |SR     |RR |RRR|\n",
      "+-------+----+-------+---+---+\n",
      "|GR     |A:1 |[A, 1] |A  |1  |\n",
      "|GR     |B:10|[B, 10]|B  |10 |\n",
      "|CY     |A:2 |[A, 2] |A  |2  |\n",
      "|CY     |B:20|[B, 20]|B  |20 |\n",
      "+-------+----+-------+---+---+\n",
      "\n"
     ]
    }
   ],
   "source": [
    "df.show(false)"
   ]
  },
  {
   "cell_type": "code",
   "execution_count": 4,
   "metadata": {},
   "outputs": [
    {
     "name": "stdout",
     "output_type": "stream",
     "text": [
      "+---------------------+\n",
      "|first(COUNTRY, false)|\n",
      "+---------------------+\n",
      "|                   GR|\n",
      "+---------------------+\n",
      "\n"
     ]
    }
   ],
   "source": [
    "df.select(first(\"COUNTRY\")).show"
   ]
  },
  {
   "cell_type": "code",
   "execution_count": 5,
   "metadata": {},
   "outputs": [
    {
     "name": "stdout",
     "output_type": "stream",
     "text": [
      "+-------+---+---+\n",
      "|COUNTRY|A  |B  |\n",
      "+-------+---+---+\n",
      "|GR     |1  |10 |\n",
      "|CY     |2  |20 |\n",
      "+-------+---+---+\n",
      "\n"
     ]
    }
   ],
   "source": [
    "df\n",
    "  .groupBy(\"COUNTRY\")\n",
    "  .pivot(\"RR\")\n",
    "  .agg(first(\"RRR\"))\n",
    "  .show(false)"
   ]
  },
  {
   "cell_type": "code",
   "execution_count": 6,
   "metadata": {},
   "outputs": [
    {
     "name": "stdout",
     "output_type": "stream",
     "text": [
      "+-------+----+----+----+----+\n",
      "|COUNTRY|1   |10  |2   |20  |\n",
      "+-------+----+----+----+----+\n",
      "|GR     |A   |B   |null|null|\n",
      "|CY     |null|null|A   |B   |\n",
      "+-------+----+----+----+----+\n",
      "\n"
     ]
    }
   ],
   "source": [
    "df\n",
    "  .groupBy(\"COUNTRY\")\n",
    "  .pivot(\"RRR\")\n",
    "  .agg(first(\"RR\"))\n",
    "  .show(false)"
   ]
  },
  {
   "cell_type": "markdown",
   "metadata": {},
   "source": [
    "## Expreriment with a new dataframe that includes JSON string"
   ]
  },
  {
   "cell_type": "code",
   "execution_count": 7,
   "metadata": {},
   "outputs": [
    {
     "data": {
      "text/plain": [
       "\u001b[36mjson\u001b[39m: \u001b[32mString\u001b[39m = \u001b[32m\"[ {\\\"a\\\": 1, \\\"b\\\": \\\"two\\\"}, {\\\"b\\\": \\\"fourx\\\", \\\"a\\\": 3} ]\"\u001b[39m\n",
       "\u001b[36mjsonDf\u001b[39m: \u001b[32mDataFrame\u001b[39m = [name: string, value: string]"
      ]
     },
     "execution_count": 7,
     "metadata": {},
     "output_type": "execute_result"
    }
   ],
   "source": [
    "val json = \"\"\"[ {\"a\": 1, \"b\": \"two\"}, {\"b\": \"fourx\", \"a\": 3} ]\"\"\"\n",
    "val jsonDf = Seq((\"first\", json)).toDF(\"name\", \"value\")"
   ]
  },
  {
   "cell_type": "code",
   "execution_count": 8,
   "metadata": {},
   "outputs": [
    {
     "data": {
      "text/plain": [
       "\u001b[36mschema\u001b[39m: \u001b[32mArrayType\u001b[39m = \u001b[33mArrayType\u001b[39m(\n",
       "  \u001b[33mStructType\u001b[39m(\n",
       "    \u001b[33mStructField\u001b[39m(\u001b[32m\"a\"\u001b[39m, IntegerType, true, {}),\n",
       "    \u001b[33mStructField\u001b[39m(\u001b[32m\"b\"\u001b[39m, StringType, true, {})\n",
       "  ),\n",
       "  true\n",
       ")\n",
       "\u001b[36mschema24\u001b[39m: \u001b[32mColumn\u001b[39m = schemaofjson([ {\"a\": 1, \"b\": \"two\"}, {\"b\": \"fourx\", \"a\": 3} ])\n",
       "\u001b[36mparsedJson\u001b[39m: \u001b[32mDataFrame\u001b[39m = [name: string, expl: struct<a: bigint, b: string>]"
      ]
     },
     "execution_count": 8,
     "metadata": {},
     "output_type": "execute_result"
    }
   ],
   "source": [
    "val schema = ArrayType (\n",
    "    StructType(\n",
    "        StructField(\"a\", IntegerType):: \n",
    "        StructField(\"b\", StringType)::Nil\n",
    "    )\n",
    ")\n",
    "\n",
    "// Spark>=2.4 way of defining a schema\n",
    "val schema24 = schema_of_json(lit(jsonDf.select($\"value\").as[String].first))\n",
    "\n",
    "val parsedJson = jsonDf\n",
    "  .withColumn(\"parsed\", from_json($\"value\", schema24))\n",
    "  .withColumn(\"expl\", explode($\"parsed\"))\n",
    "  .drop(\"value\",\"parsed\")"
   ]
  },
  {
   "cell_type": "code",
   "execution_count": 9,
   "metadata": {},
   "outputs": [
    {
     "name": "stdout",
     "output_type": "stream",
     "text": [
      "+----------+\n",
      "|      expl|\n",
      "+----------+\n",
      "|  [1, two]|\n",
      "|[3, fourx]|\n",
      "+----------+\n",
      "\n",
      "+---+\n",
      "|  a|\n",
      "+---+\n",
      "|  1|\n",
      "|  3|\n",
      "+---+\n",
      "\n",
      "+-----+\n",
      "|    b|\n",
      "+-----+\n",
      "|  two|\n",
      "|fourx|\n",
      "+-----+\n",
      "\n"
     ]
    },
    {
     "data": {
      "text/plain": [
       "\u001b[36mres8_3\u001b[39m: \u001b[32mString\u001b[39m = \u001b[32m\"[1, two]\"\u001b[39m"
      ]
     },
     "execution_count": 9,
     "metadata": {},
     "output_type": "execute_result"
    }
   ],
   "source": [
    "parsedJson.select(\"expl\").show\n",
    "parsedJson.select(\"expl.a\").show\n",
    "parsedJson.select(\"expl.b\").show\n",
    "parsedJson.select($\"expl\").as[String].first"
   ]
  }
 ],
 "metadata": {
  "kernelspec": {
   "display_name": "Scala",
   "language": "scala",
   "name": "scala"
  },
  "language_info": {
   "codemirror_mode": "text/x-scala",
   "file_extension": ".scala",
   "mimetype": "text/x-scala",
   "name": "scala",
   "nbconvert_exporter": "script",
   "version": "2.12.8"
  }
 },
 "nbformat": 4,
 "nbformat_minor": 2
}
